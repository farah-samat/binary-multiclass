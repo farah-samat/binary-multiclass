{
 "cells": [
  {
   "cell_type": "markdown",
   "metadata": {},
   "source": [
    "### <u>Libraries & Modules</u>"
   ]
  },
  {
   "cell_type": "code",
   "execution_count": 28,
   "metadata": {
    "collapsed": true
   },
   "outputs": [],
   "source": [
    "import matplotlib.pyplot as plt\n",
    "import numpy as np\n",
    "import pandas as pd\n",
    "import scipy.stats as stats\n",
    "from sklearn import metrics\n",
    "from sklearn import preprocessing\n",
    "from sklearn.feature_selection import SelectFromModel\n",
    "from sklearn.linear_model import LogisticRegression\n",
    "from sklearn.metrics import accuracy_score\n",
    "from sklearn.metrics import classification_report\n",
    "from sklearn.metrics import f1_score\n",
    "from sklearn.metrics import precision_score\n",
    "from sklearn.metrics import recall_score\n",
    "from sklearn.metrics import roc_auc_score\n",
    "from sklearn.model_selection import train_test_split\n",
    "from sklearn.multiclass import OneVsRestClassifier\n"
   ]
  },
  {
   "cell_type": "markdown",
   "metadata": {},
   "source": [
    "### <u>Part 1: Breast Cancer Diagnosis</u>\n",
    "#### 1.1 Data Munging"
   ]
  },
  {
   "cell_type": "code",
   "execution_count": 29,
   "metadata": {
    "scrolled": false
   },
   "outputs": [
    {
     "name": "stdout",
     "output_type": "stream",
     "text": [
      "There are 100 datapoints in training set and 31 columns which include label and features.\n",
      "\n",
      "Check first row (datapoint) in training set:\n",
      "[['B' 14.02 15.66 89.59 606.5 0.07966000000000001 0.055810000000000005\n",
      "  0.02087 0.02652 0.1589 0.05586 0.2142 0.6549 1.6059999999999999 19.25\n",
      "  0.004837 0.009238 0.009212999999999999 0.010759999999999999 0.01171\n",
      "  0.002104 14.91 19.31 96.53 688.9 0.1034 0.1017 0.0626 0.08216 0.2136\n",
      "  0.0671]]\n",
      "\n",
      "Check first row (datapoint) in test set:\n",
      "[['B' 8.597000000000001 18.6 54.09 221.2 0.1074 0.05847 0.0 0.0 0.2163\n",
      "  0.07359 0.3368 2.7769999999999997 2.222 17.81 0.02075 0.01403 0.0 0.0\n",
      "  0.06146 0.0068200000000000005 8.952 22.44 56.65 240.1 0.1347 0.07767 0.0\n",
      "  0.0 0.3142 0.08116]]\n",
      "\n",
      "The first element is the label, therefore:\n",
      "No. of features in training data is 30\n",
      "No. of features in test data is 30\n"
     ]
    }
   ],
   "source": [
    "train_df = (pd.read_csv(\"data/wisconsin_data/train_wbcd.csv\")).drop('Patient_ID', axis=1)\n",
    "train = train_df.values\n",
    "\n",
    "test_df = (pd.read_csv(\"data/wisconsin_data/test_wbcd.csv\")).drop('Patient_ID', axis=1)\n",
    "test = test_df.values\n",
    "\n",
    "print 'There are {} datapoints in training set and {} columns which include label and features.'.format(train.shape[0],train.shape[1])\n",
    "print \n",
    "print 'Check first row (datapoint) in training set:'\n",
    "print train[:1]\n",
    "print \n",
    "print 'Check first row (datapoint) in test set:'\n",
    "print test[:1]\n",
    "print \n",
    "print 'The first element is the label, therefore:'\n",
    "print \"No. of features in training data is {}\".format(train.shape[1] - 1)\n",
    "print \"No. of features in test data is {}\".format(test.shape[1] - 1)"
   ]
  },
  {
   "cell_type": "markdown",
   "metadata": {},
   "source": [
    "Checking the class distribution:"
   ]
  },
  {
   "cell_type": "code",
   "execution_count": 30,
   "metadata": {},
   "outputs": [
    {
     "name": "stdout",
     "output_type": "stream",
     "text": [
      "\t\t\tFrequency\n",
      "\t\t  B (0)\t\t  M (1)\n",
      "Training set\t58.000000\t42.000000\n",
      "Test set\t14.000000\t6.000000\n"
     ]
    }
   ],
   "source": [
    "print \"\\t\\t\\tFrequency\"\n",
    "print \"\\t\\t  B (0)\\t\\t  M (1)\"\n",
    "print \"Training set\\t{:f}\\t{:f}\".format((train == 'B').sum(),(train == 'M').sum())\n",
    "print \"Test set\\t{:f}\\t{:f}\".format((test == 'B').sum(),(test == 'M').sum())"
   ]
  },
  {
   "cell_type": "markdown",
   "metadata": {},
   "source": [
    "The class distribution on training and test sets shows that there are more samples with B cancer diagnosis. This is an imbalanced class problem since the classes (B and M) are not represented equally."
   ]
  },
  {
   "cell_type": "markdown",
   "metadata": {},
   "source": [
    "Checking for missing values in data sets:"
   ]
  },
  {
   "cell_type": "code",
   "execution_count": 31,
   "metadata": {
    "scrolled": false
   },
   "outputs": [
    {
     "name": "stdout",
     "output_type": "stream",
     "text": [
      "Training Data: Feature 21 has 2 missing value(s)\n",
      "Test Data: Feature 21 has 1 missing value(s)\n"
     ]
    }
   ],
   "source": [
    "def na_count(df, dataset):\n",
    "    counter = 0\n",
    "    for i in range(len(df.columns)):\n",
    "        na_count = df.iloc[:,i].isnull().sum()\n",
    "        if na_count >= 1:\n",
    "            print '{} Feature {} has {} missing value(s)'.format(dataset, df.columns[i],str(na_count))\n",
    "            counter += 1\n",
    "    if counter == 0:\n",
    "        print 'No column has NA in {}'.format(dataset)\n",
    "        \n",
    "na_count(pd.DataFrame(train), \"Training Data:\")\n",
    "na_count(pd.DataFrame(test), \"Test Data:\")"
   ]
  },
  {
   "cell_type": "markdown",
   "metadata": {},
   "source": [
    "Check data distribution of feature 21:"
   ]
  },
  {
   "cell_type": "code",
   "execution_count": 32,
   "metadata": {
    "scrolled": true
   },
   "outputs": [
    {
     "data": {
      "image/png": "[encoded data removed]",
      "text/plain": [
       "<matplotlib.figure.Figure at 0x10e5f0690>"
      ]
     },
     "metadata": {},
     "output_type": "display_data"
    }
   ],
   "source": [
    "fig, ax = plt.subplots(nrows=1, ncols=2, figsize=(15,5))\n",
    "ax[0].hist(train_df.iloc[:,21].dropna())\n",
    "ax[0].set_title('Data distribution of feature 21 in training dataset')\n",
    "\n",
    "ax[1].hist(test_df.iloc[:,21].dropna())\n",
    "ax[1].set_title('Data distribution of feature 21 in test dataset')\n",
    "\n",
    "plt.show()"
   ]
  },
  {
   "cell_type": "markdown",
   "metadata": {},
   "source": [
    "Since the distributions are positively skewed, the best option to replace the missing entry is using the median as mean will be influenced by the distribution tail (high values)."
   ]
  },
  {
   "cell_type": "code",
   "execution_count": 33,
   "metadata": {
    "scrolled": true
   },
   "outputs": [
    {
     "name": "stdout",
     "output_type": "stream",
     "text": [
      "No column has NA in Training Data\n",
      "No column has NA in Test Data\n"
     ]
    }
   ],
   "source": [
    "train_df.iloc[:,21] = train_df.iloc[:,21].fillna(train_df.iloc[:,21].median())\n",
    "test_df.iloc[:,21] = test_df.iloc[:,21].fillna(test_df.iloc[:,21].median())\n",
    "na_count(train_df, \"Training Data\")\n",
    "na_count(test_df, \"Test Data\")"
   ]
  },
  {
   "cell_type": "markdown",
   "metadata": {},
   "source": [
    "Normalize the training and test data"
   ]
  },
  {
   "cell_type": "code",
   "execution_count": 34,
   "metadata": {
    "collapsed": true
   },
   "outputs": [],
   "source": [
    "features = list(train_df.iloc[0:,2:])\n",
    "\n",
    "def scaler(df, columns):    \n",
    "        std_scale = preprocessing.StandardScaler().fit(df[columns])\n",
    "        df_std_mat = std_scale.transform(df[columns])\n",
    "        df_std = pd.DataFrame(df_std_mat, columns = columns)\n",
    "        df_std['Diagnosis'] = df['Diagnosis']\n",
    "        return df_std\n",
    "    \n",
    "trainNorm = scaler(train_df, features)\n",
    "testNorm = scaler(test_df, features)\n"
   ]
  },
  {
   "cell_type": "markdown",
   "metadata": {},
   "source": [
    "#### 1.2 Logistic Regression"
   ]
  },
  {
   "cell_type": "code",
   "execution_count": 35,
   "metadata": {
    "scrolled": true
   },
   "outputs": [
    {
     "name": "stdout",
     "output_type": "stream",
     "text": [
      "<class 'pandas.core.frame.DataFrame'>\n"
     ]
    }
   ],
   "source": [
    "#Create the training/testing data and labels\n",
    "trainNorm = trainNorm.replace(['B', 'M'], [0, 1]) \n",
    "Xtrain = trainNorm.iloc[0:,0:29]\n",
    "ytrain = trainNorm.iloc[0:,29:]\n",
    "\n",
    "testNorm = testNorm.replace(['B', 'M'], [0, 1]) \n",
    "Xtest = testNorm.iloc[0:,0:29]\n",
    "ytest = testNorm.iloc[0:,29:]\n",
    "\n",
    "print type(Xtrain)"
   ]
  },
  {
   "cell_type": "markdown",
   "metadata": {},
   "source": [
    "- using L1 regularization, alpha = 0.1"
   ]
  },
  {
   "cell_type": "code",
   "execution_count": 41,
   "metadata": {
    "scrolled": true
   },
   "outputs": [
    {
     "name": "stdout",
     "output_type": "stream",
     "text": [
      "Metrics\t\tScore\n",
      "Recall\t\t0.833333\n",
      "Precision\t0.833333\n",
      "Accuracy\t0.900000\n",
      "F1 score\t0.833333\n",
      "\n",
      "Confusion matrix:\n",
      "[[13  1]\n",
      " [ 1  5]]\n",
      "AUC:\n",
      "0.880952380952\n"
     ]
    }
   ],
   "source": [
    "# initialize the logisitc regression model. \n",
    "logistic1 = LogisticRegression(C=10, penalty='l1')\n",
    "\n",
    "# fit model\n",
    "l1 = logistic1.fit(Xtrain, ytrain)\n",
    "\n",
    "pred_label = l1.predict(Xtest)\n",
    "true_label = ytest\n",
    "\n",
    "\n",
    "# metrics for test set\n",
    "test_recall = metrics.recall_score(true_label, pred_label)\n",
    "test_precision = metrics.precision_score(true_label, pred_label)\n",
    "test_accuracy = metrics.accuracy_score(true_label, pred_label)\n",
    "test_f_score = metrics.f1_score(true_label, pred_label)\n",
    "\n",
    "\n",
    "print \"Metrics\\t\\tScore\"\n",
    "print \"Recall\\t\\t{:f}\".format(test_recall)\n",
    "print \"Precision\\t{:f}\".format(test_precision)\n",
    "print \"Accuracy\\t{:f}\".format(test_accuracy)\n",
    "print \"F1 score\\t{:f}\".format(test_f_score)\n",
    "\n",
    "print \n",
    "print 'Confusion matrix:'\n",
    "print metrics.confusion_matrix(true_label, pred_label)\n",
    "print 'AUC:'\n",
    "print roc_auc_score(true_label, pred_label)\n"
   ]
  },
  {
   "cell_type": "markdown",
   "metadata": {},
   "source": [
    "- using L2 regularization, lambda = 0.1"
   ]
  },
  {
   "cell_type": "code",
   "execution_count": 13,
   "metadata": {},
   "outputs": [
    {
     "name": "stdout",
     "output_type": "stream",
     "text": [
      "Recall:0.833333333333\n",
      "Precision:0.833333333333\n",
      "Accuracy:0.9\n",
      "F1 score:0.833333333333\n",
      "\n",
      "Confusion matrix:\n",
      "[[13  1]\n",
      " [ 1  5]]\n",
      "AUC:\n",
      "0.880952380952\n"
     ]
    }
   ],
   "source": [
    "# initialize the logisitc regression model. \n",
    "logistic2 = LogisticRegression(C=10, penalty='l2')\n",
    "\n",
    "# fit model\n",
    "l2 = logistic2.fit(Xtrain, ytrain)\n",
    "\n",
    "pred_label = l2.predict(Xtest)\n",
    "true_label = ytest\n",
    "\n",
    "#model evaluation\n",
    "recall = metrics.recall_score(true_label, pred_label)\n",
    "precision = metrics.precision_score(true_label, pred_label)\n",
    "accuracy = metrics.accuracy_score(true_label, pred_label)\n",
    "f_score = metrics.f1_score(true_label, pred_label)\n",
    "\n",
    "print 'Recall:{}'.format(recall)\n",
    "print 'Precision:{}'.format(precision)\n",
    "print 'Accuracy:{}'.format(accuracy)\n",
    "print 'F1 score:{}'.format(f_score)\n",
    "print \n",
    "print 'Confusion matrix:'\n",
    "print metrics.confusion_matrix(true_label, pred_label)\n",
    "print 'AUC:'\n",
    "print roc_auc_score(true_label, pred_label)"
   ]
  },
  {
   "cell_type": "markdown",
   "metadata": {},
   "source": [
    "#### 1.3 Choosing the best hyper-parameters"
   ]
  },
  {
   "cell_type": "markdown",
   "metadata": {
    "collapsed": true
   },
   "source": [
    "- L1<br>Choosing the best alpha value from the following set: {0.1,1,3,10,33,100,333,1000, 3333, 10000, 33333}"
   ]
  },
  {
   "cell_type": "code",
   "execution_count": 14,
   "metadata": {
    "collapsed": true
   },
   "outputs": [],
   "source": [
    "#alpha values\n",
    "alpha = [0.1,1,3, 10,33,100,333,1000, 3333, 10000, 33333]\n",
    "\n",
    "#data\n",
    "trainNorm = scaler(train_df, features)\n",
    "trainNorm = trainNorm.replace(['B', 'M'], [0, 1]) \n",
    "\n",
    "Xtrain = trainNorm[features]\n",
    "ytrain = trainNorm['Diagnosis']\n",
    "\n",
    "testNorm = scaler(test_df, features)\n",
    "testNorm = testNorm.replace(['B', 'M'], [0, 1]) \n",
    "\n",
    "Xtest = testNorm[features]\n",
    "ytest = testNorm['Diagnosis']\n"
   ]
  },
  {
   "cell_type": "code",
   "execution_count": 15,
   "metadata": {
    "collapsed": true
   },
   "outputs": [],
   "source": [
    "# define function\n",
    "def runLRmodel(trials, data, predictors, label, penalty_type, penalty_score):\n",
    "    \n",
    "    model_acc     = 0\n",
    "    \n",
    "    for i in range(0,trials):\n",
    "        Dtrain, Dtest = train_test_split(data, test_size=0.3)\n",
    "        lr = LogisticRegression(C=1/penalty_score, penalty=penalty_type)\n",
    "        lr.fit(Dtrain[predictors], Dtrain[label])\n",
    "        y_predict = lr.predict(Dtest[predictors])\n",
    "        model_acc += accuracy_score(y_predict, Dtest[label])\n",
    "        \n",
    "    model_acc /= trials\n",
    "    \n",
    "    return np.round(model_acc, decimals=2)\n"
   ]
  },
  {
   "cell_type": "markdown",
   "metadata": {},
   "source": [
    "Choosing the best alpha value:"
   ]
  },
  {
   "cell_type": "code",
   "execution_count": 48,
   "metadata": {
    "scrolled": false
   },
   "outputs": [],
   "source": [
    "l1_acc = np.zeros(len(alpha))\n",
    "index = 0\n",
    "\n",
    "#L1 regularization\n",
    "for l in alpha:\n",
    "    l1_acc[index] = runLRmodel(100, trainNorm, features, 'Diagnosis', 'l1', float(l))\n",
    "    index += 1\n",
    "    \n",
    "# penalty at which validation accuracy is maximum\n",
    "max_index_l1  = np.argmax(l1_acc)\n",
    "best_alpha = alpha[max_index_l1]\n"
   ]
  },
  {
   "cell_type": "markdown",
   "metadata": {},
   "source": [
    "Using best alpha value to refit the model and find top 5 features:"
   ]
  },
  {
   "cell_type": "code",
   "execution_count": 49,
   "metadata": {},
   "outputs": [
    {
     "name": "stdout",
     "output_type": "stream",
     "text": [
      "Alpha: [0.1, 1, 3, 10, 33, 100, 333, 1000, 3333, 10000, 33333]\n",
      "Acc: [ 0.99  0.99  0.97  0.95  0.59  0.56  0.57  0.58  0.58  0.57  0.58]\n",
      "Best Alpha: 0.1\n",
      "\n",
      "Precision:0.833333333333\n",
      "Accuracy:0.9\n",
      "\n",
      "Top 5 features in decreasing order of feature weights:\n",
      "1  Weight, Feature('6.45', 'f23')\n",
      "2  Weight, Feature('3.93', 'f22')\n",
      "3  Weight, Feature('2.44', 'f21')\n",
      "4  Weight, Feature('2.42', 'f25')\n",
      "5  Weight, Feature('1.5', 'f4')\n",
      "\n",
      "Confusion matrix:\n",
      "[[13  1]\n",
      " [ 1  5]]\n",
      "AUC:\n",
      "0.880952380952\n",
      "\n"
     ]
    }
   ],
   "source": [
    "print \"Alpha: {}\".format(alpha)\n",
    "print \"Acc: {}\".format(l1_acc)\n",
    "print \"Best Alpha: {}\".format(best_alpha)\n",
    "print \n",
    "\n",
    "l1 = LogisticRegression(C=1/best_alpha, penalty='l1')\n",
    "l1.fit(Xtrain, ytrain)\n",
    "pred_label = l1.predict(Xtest)\n",
    "true_label = ytest\n",
    "\n",
    "#model evaluation\n",
    "recall = recall_score(true_label, pred_label)\n",
    "precision = precision_score(true_label, pred_label)\n",
    "accuracy = accuracy_score(true_label, pred_label)\n",
    "f_score = f1_score(true_label, pred_label)\n",
    "\n",
    "print 'Precision:{}'.format(precision)\n",
    "print 'Accuracy:{}'.format(accuracy)\n",
    "\n",
    "def top_5_feature(model):\n",
    "    coeff = abs(np.round(model.coef_[0,], decimals=2))\n",
    "    coeff_dict = dict()\n",
    "    index = 0\n",
    "    for i in features[0:30]:\n",
    "        coeff_dict[i] = str(list(coeff)[index])\n",
    "        index += 1\n",
    "    top_5 = sorted([(v,k) for k,v in coeff_dict.items()], reverse=True)[0:5]\n",
    "    rank = 1\n",
    "    for i in top_5:\n",
    "        print '{} '.format(str(rank)), 'Weight, Feature{}'.format(i)\n",
    "        rank += 1\n",
    "\n",
    "        \n",
    "\n",
    "print 'Top 5 features in decreasing order of feature weights:'\n",
    "top_5_feature(l1)\n",
    "print \n",
    "\n",
    "print 'Confusion matrix:'\n",
    "print metrics.confusion_matrix(pred_label, true_label)\n",
    "print 'AUC:'\n",
    "print roc_auc_score(true_label, pred_label)\n",
    "print "
   ]
  },
  {
   "cell_type": "markdown",
   "metadata": {},
   "source": [
    "#### Discussion for regularized model with L1 penalty"
   ]
  },
  {
   "cell_type": "markdown",
   "metadata": {},
   "source": [
    "The accuracy of this model drops signficantly from alpha = 33 to alpha = 3333. Higher alpha values produce more regularized models and hence underfitting. Therefore, it can be said that the model will be underfitted if the alpha value is large.\n",
    "\n",
    "Choosing alpha value = 0.1 might result overfitted model since the larger the C value (from small alpha value), the less regularized the model.\n",
    "\n",
    "Since alpha value = 1 gives the same model performance as alpha = 0.1, it is probably the better choice to avoid overfitted models."
   ]
  },
  {
   "cell_type": "markdown",
   "metadata": {},
   "source": [
    "- L2<br>Choosing the best alpha value from the following set: {0.001, 0.003, 0.01, 0.03, 0.1,0.3,1,3,10,33}"
   ]
  },
  {
   "cell_type": "code",
   "execution_count": 50,
   "metadata": {
    "collapsed": true
   },
   "outputs": [],
   "source": [
    "#lambda values\n",
    "lambda_val = [0.001, 0.003, 0.01, 0.03, 0.1, 0.3,  1, 3, 10, 33]\n",
    "\n",
    "#data\n",
    "trainNorm = scaler(train_df, features)\n",
    "trainNorm = trainNorm.replace(['B', 'M'], [0, 1]) \n",
    "\n",
    "Xtrain = trainNorm[features]\n",
    "ytrain = trainNorm['Diagnosis']\n",
    "\n",
    "testNorm = scaler(test_df, features)\n",
    "testNorm = testNorm.replace(['B', 'M'], [0, 1]) \n",
    "\n",
    "Xtest = testNorm[features]\n",
    "ytest = testNorm['Diagnosis']"
   ]
  },
  {
   "cell_type": "code",
   "execution_count": 52,
   "metadata": {},
   "outputs": [],
   "source": [
    "l2_acc = np.zeros(len(lambda_val))\n",
    "index = 0\n",
    "\n",
    "#L2 regularization\n",
    "for l in lambda_val:\n",
    "    l2_acc[index] = runLRmodel(100, trainNorm, features, 'Diagnosis', 'l2', float(l))\n",
    "    index += 1\n",
    "    \n",
    "# penalty at which validation accuracy is maximum\n",
    "max_index_l2  = np.argmax(l2_acc)\n",
    "best_lambda = lambda_val[max_index_l2]\n"
   ]
  },
  {
   "cell_type": "markdown",
   "metadata": {},
   "source": [
    "Using best lambda value to refit the model and find top 5 features:"
   ]
  },
  {
   "cell_type": "code",
   "execution_count": 53,
   "metadata": {},
   "outputs": [
    {
     "name": "stdout",
     "output_type": "stream",
     "text": [
      "Lambda: [0.001, 0.003, 0.01, 0.03, 0.1, 0.3, 1, 3, 10, 33]\n",
      "Acc: [ 0.99  0.99  0.99  0.99  0.99  0.99  0.99  0.99  0.98  0.97]\n",
      "\n",
      "Best Lambda: 0.001\n",
      "\n",
      "Precision:0.833333333333\n",
      "Accuracy:0.9\n",
      "\n",
      "Top 5 features in decreasing order of feature weights:\n",
      "1  Weight, Feature('6.45', 'f23')\n",
      "2  Weight, Feature('3.93', 'f22')\n",
      "3  Weight, Feature('2.44', 'f21')\n",
      "4  Weight, Feature('2.42', 'f25')\n",
      "5  Weight, Feature('1.5', 'f4')\n",
      "\n",
      "Confusion matrix:\n",
      "[[13  1]\n",
      " [ 1  5]]\n",
      "AUC:\n",
      "0.880952380952\n",
      "\n"
     ]
    }
   ],
   "source": [
    "print \"Lambda: {}\".format(lambda_val)\n",
    "print \"Acc: {}\".format(l2_acc)\n",
    "print \n",
    "print \"Best Lambda: {}\".format(best_lambda)\n",
    "print \n",
    "l2 = LogisticRegression(C=1/best_lambda, penalty='l2')\n",
    "l2.fit(Xtrain, ytrain)\n",
    "pred_label = l2.predict(Xtest)\n",
    "true_label = ytest\n",
    "\n",
    "#model evaluation\n",
    "recall = recall_score(true_label, pred_label)\n",
    "precision = precision_score(true_label, pred_label)\n",
    "accuracy = accuracy_score(true_label, pred_label)\n",
    "f_score = f1_score(true_label, pred_label)\n",
    "\n",
    "#print 'Recall:{}'.format(recall)\n",
    "print 'Precision:{}'.format(precision)\n",
    "print 'Accuracy:{}'.format(accuracy)\n",
    "#print 'F1 score:{}'.format(f_score)\n",
    "print \n",
    "\n",
    "def top_5_feature(model):\n",
    "    coeff = abs(np.round(model.coef_[0,], decimals=2))\n",
    "    coeff_dict = dict()\n",
    "    index = 0\n",
    "    for i in features[0:30]:\n",
    "        coeff_dict[i] = str(list(coeff)[index])\n",
    "        index += 1\n",
    "    top_5 = sorted([(v,k) for k,v in coeff_dict.items()], reverse=True)[0:5]\n",
    "    rank = 1\n",
    "    for i in top_5:\n",
    "        print '{} '.format(str(rank)), 'Weight, Feature{}'.format(i)\n",
    "        rank += 1\n",
    "\n",
    "        \n",
    "\n",
    "print 'Top 5 features in decreasing order of feature weights:'\n",
    "top_5_feature(l1)\n",
    "print \n",
    "\n",
    "print 'Confusion matrix:'\n",
    "print metrics.confusion_matrix(true_label, pred_label)\n",
    "print 'AUC:'\n",
    "print roc_auc_score(true_label, pred_label)\n",
    "print "
   ]
  },
  {
   "cell_type": "markdown",
   "metadata": {},
   "source": [
    "#### Discussion for regularized model with L2 penalty"
   ]
  },
  {
   "cell_type": "markdown",
   "metadata": {},
   "source": [
    "Regularization with lambda values of 0.001, 0.003, 0.01, 0.03, 0.1, 0.3, 1, 3, 10 and 33 using L2 penalty did not show any significant drop or increase in model performance for all lambda values. But looking at the pattern, accuracy decreases with more regularization (higher lambda values).\n",
    "\n",
    "To see the effect of very small lambda value (less regularized model), let us use lambda = 0.0000001"
   ]
  },
  {
   "cell_type": "code",
   "execution_count": 54,
   "metadata": {},
   "outputs": [
    {
     "name": "stdout",
     "output_type": "stream",
     "text": [
      "Metrics\t\tScore\n",
      "Recall\t\t0.833333\n",
      "Precision\t0.714286\n",
      "Accuracy\t0.850000\n",
      "F1 score\t0.769231\n",
      "\n",
      "Confusion matrix:\n",
      "[[12  2]\n",
      " [ 1  5]]\n",
      "AUC:\n",
      "0.845238095238\n"
     ]
    }
   ],
   "source": [
    "logistic = LogisticRegression(C=1/0.0000001, penalty='l2')\n",
    "\n",
    "# fit model\n",
    "test_model = logistic.fit(Xtrain, ytrain)\n",
    "\n",
    "pred_label = test_model.predict(Xtest)\n",
    "true_label = ytest\n",
    "\n",
    "\n",
    "# metrics for test set\n",
    "test_recall = metrics.recall_score(true_label, pred_label)\n",
    "test_precision = metrics.precision_score(true_label, pred_label)\n",
    "test_accuracy = metrics.accuracy_score(true_label, pred_label)\n",
    "test_f_score = metrics.f1_score(true_label, pred_label)\n",
    "\n",
    "\n",
    "print \"Metrics\\t\\tScore\"\n",
    "print \"Recall\\t\\t{:f}\".format(test_recall)\n",
    "print \"Precision\\t{:f}\".format(test_precision)\n",
    "print \"Accuracy\\t{:f}\".format(test_accuracy)\n",
    "print \"F1 score\\t{:f}\".format(test_f_score)\n",
    "\n",
    "print \n",
    "print 'Confusion matrix:'\n",
    "print metrics.confusion_matrix(true_label, pred_label)\n",
    "print 'AUC:'\n",
    "print roc_auc_score(true_label, pred_label)"
   ]
  },
  {
   "cell_type": "markdown",
   "metadata": {},
   "source": [
    "From the performance report of the the logitic regression above, it can be seen that the area under ROC curve is less than the regularized ones. The model is underfitted and the more regularized models perform better.<br>\n",
    "\n",
    "Hence lambda values 0.001, 0.003, 0.01, 0.03, 0.1, 0.3, 1, 3, 10 and 33 do not show underfitting or overfitting signs."
   ]
  },
  {
   "cell_type": "markdown",
   "metadata": {},
   "source": [
    "### <u>Part 2: Handwritten digits recognition</u>\n",
    "#### 2.1 One-versus-rest classifier"
   ]
  },
  {
   "cell_type": "code",
   "execution_count": 55,
   "metadata": {},
   "outputs": [
    {
     "name": "stdout",
     "output_type": "stream",
     "text": [
      "This data set has 2520 datapoints with 785 columns which include label and features.\n",
      "The first column is the label, therefore the number of features in the data is 784.\n",
      "Unique labels in the data set is as follows:\n",
      "[0 1 2 3 4 5 6 7 8 9]\n"
     ]
    }
   ],
   "source": [
    "#read and  analyse data set\n",
    "data_df = pd.read_csv(\"data/mnist/reduced_mnist.csv\")\n",
    "data = data_df.values\n",
    "\n",
    "print 'This data set has {} datapoints with {} columns which include label and features.'.format(data.shape[0],data.shape[1])  \n",
    "print 'The first column is the label, therefore the number of features in the data is {}.'.format(data.shape[1] - 1)\n",
    "print 'Unique labels in the data set is as follows:'\n",
    "print np.unique(data[:,0])\n"
   ]
  },
  {
   "cell_type": "code",
   "execution_count": 56,
   "metadata": {},
   "outputs": [
    {
     "name": "stdout",
     "output_type": "stream",
     "text": [
      "Training data: 1764 data points.\n",
      "Test data: 756 data points.\n"
     ]
    }
   ],
   "source": [
    "#split data\n",
    "train_data, test_data = train_test_split(data, test_size=0.3)\n",
    "print 'Training data: {} data points.'.format(train_data.shape[0])\n",
    "print 'Test data: {} data points.'.format(test_data.shape[0])"
   ]
  },
  {
   "cell_type": "code",
   "execution_count": 57,
   "metadata": {},
   "outputs": [
    {
     "name": "stdout",
     "output_type": "stream",
     "text": [
      "Accuracy:0.874338624339\n",
      "Precision:0.874432343781\n",
      "Recall:0.874338624339\n"
     ]
    }
   ],
   "source": [
    "#train and assess model\n",
    "ncol_train = train_data.shape[1]\n",
    "train_X = train_data[0:,1:785]\n",
    "train_y = train_data[0:,:1]\n",
    "\n",
    "test_X = test_data[0:,1:785]\n",
    "test_y = test_data[0:,:1]\n",
    "\n",
    "ovr = OneVsRestClassifier(LogisticRegression(C=1/1, penalty='l1')).fit(train_X, train_y)\n",
    "pred_label = ovr.predict(test_X)\n",
    "true_label = test_y\n",
    "\n",
    "#model evaluation\n",
    "accuracy = metrics.accuracy_score(true_label, pred_label)\n",
    "precision = metrics.precision_score(true_label, pred_label, average = 'weighted')\n",
    "recall = metrics.recall_score(true_label, pred_label, average = 'weighted')\n",
    "\n",
    "print 'Accuracy:{}'.format(accuracy)\n",
    "print 'Precision:{}'.format(precision)\n",
    "print 'Recall:{}'.format(recall)\n"
   ]
  },
  {
   "cell_type": "markdown",
   "metadata": {},
   "source": [
    "#### 2.2 Choose the best value of alpha"
   ]
  },
  {
   "cell_type": "code",
   "execution_count": 58,
   "metadata": {},
   "outputs": [
    {
     "name": "stdout",
     "output_type": "stream",
     "text": [
      "\t\t\tAverage\n",
      "Alpha\t\tTraining Acc.\tValidation Acc.\n",
      "0.100000\t0.837037\t0.814683\n",
      "1.000000\t0.834524\t0.818915\n",
      "3.000000\t0.837698\t0.813889\n",
      "10.000000\t0.832011\t0.818651\n",
      "33.000000\t0.839550\t0.818122\n",
      "100.000000\t0.851852\t0.816138\n",
      "333.000000\t0.864153\t0.823280\n",
      "1000.000000\t0.848677\t0.800132\n",
      "3333.000000\t0.810979\t0.699603\n",
      "10000.000000\t0.700132\t0.584921\n",
      "33333.000000\t0.540212\t0.078042\n"
     ]
    }
   ],
   "source": [
    "#alpha values\n",
    "alpha = [0.1, 1, 3, 10, 33, 100, 333, 1000, 3333, 10000, 33333]\n",
    "\n",
    "#accuracy lists\n",
    "train_accuracy = []\n",
    "val_accuracy = []\n",
    "\n",
    "#data\n",
    "train_data, test_data = train_test_split(data, test_size=0.3)\n",
    "train_X = train_data[0:,1:785]\n",
    "train_y = train_data[0:,:1]\n",
    "\n",
    "test_X = test_data[0:,1:785]\n",
    "test_y = test_data[0:,:1]\n",
    "\n",
    "print \"\\t\\t\\tAverage\"\n",
    "print \"Alpha\\t\\tTraining Acc.\\tValidation Acc.\"\n",
    "\n",
    "for a in range(len(alpha)):\n",
    "    int_train = []\n",
    "    int_val = []\n",
    "    for i in range(10):\n",
    "        Xtrain, Xval, ytrain, yval = train_test_split(train_X, train_y, test_size=0.3)\n",
    "        fit_train = OneVsRestClassifier(LogisticRegression(C=1./alpha[a], penalty='l1')).fit(Xtrain, ytrain)\n",
    "        fit_val = OneVsRestClassifier(LogisticRegression(C=1./alpha[a], penalty='l1')).fit(Xval, yval)\n",
    "        train_pred = fit_train.predict(test_X)\n",
    "        val_pred = fit_val.predict(test_X)\n",
    "        true_label = test_y\n",
    "        int_train.append(accuracy_score(true_label, train_pred))\n",
    "        int_val.append(accuracy_score(true_label, val_pred))\n",
    "    print \"{:f}\\t{:f}\\t{:f}\".format(alpha[a],np.array(int_train).mean(),np.array(int_val).mean())\n",
    "    train_accuracy.append(np.array(int_train).mean())\n",
    "    val_accuracy.append(np.array(int_val).mean())\n",
    "    "
   ]
  },
  {
   "cell_type": "code",
   "execution_count": 59,
   "metadata": {
    "collapsed": true
   },
   "outputs": [
    {
     "data": {
      "image/png": "[encoded data removed]",
      "text/plain": [
       "<matplotlib.figure.Figure at 0x10e2d9b10>"
      ]
     },
     "metadata": {},
     "output_type": "display_data"
    },
    {
     "name": "stdout",
     "output_type": "stream",
     "text": [
      "\n",
      "Best Alpha: 333\n"
     ]
    }
   ],
   "source": [
    "#plot graph\n",
    "max_index_1  = np.argmax(train_accuracy)\n",
    "max_index_2  = np.argmax(val_accuracy)\n",
    "best_alpha = alpha[max_index_2]\n",
    "\n",
    "plt.scatter(range(0,len(alpha)), train_accuracy, color='r', label='Training')\n",
    "plt.scatter(range(0,len(alpha)), val_accuracy, color='b', label='Validation')\n",
    "plt.xticks(range(0,len(alpha)), alpha, rotation='vertical') \n",
    "#plt.plot((np.argmax(train_accuracy), np.argmax(train_accuracy)), (0, val_accuracy[max_index_1]), ls='dotted')\n",
    "plt.plot((np.argmax(val_accuracy), np.argmax(val_accuracy)), (0, train_accuracy[max_index_2]), ls='dotted')\n",
    "axes = plt.gca()\n",
    "axes.set_ylim([0, 1.0])\n",
    "plt.xlabel('Alpha values')    \n",
    "plt.ylabel('Average Accuracy')\n",
    "plt.title('Average accuracy vs Alpha values')\n",
    "plt.legend(loc=\"lower left\")\n",
    "plt.show()\n",
    "print \n",
    "print \"Best Alpha: {}\".format(best_alpha)\n"
   ]
  },
  {
   "cell_type": "markdown",
   "metadata": {},
   "source": [
    "From the plot, it can be seen that validation accuracy is almost the same or as good as training accuracy at alpha values 0.1, 1, 3, 10, 33 and 100. Whereas from alpha = 1000 to 33333, the validation performance is decreasing and produces gap between validation and training accuracy. This is a sign of high bias and underfitting."
   ]
  },
  {
   "cell_type": "markdown",
   "metadata": {},
   "source": [
    "Prediction performance"
   ]
  },
  {
   "cell_type": "code",
   "execution_count": 62,
   "metadata": {},
   "outputs": [
    {
     "name": "stdout",
     "output_type": "stream",
     "text": [
      "The original total no. of features: 784\n",
      "The new no. of features (non-zero features): 273\n",
      "\n",
      "Confusion matrix of test set:\n",
      "[[62  0  0  1  0  0  0  0  1  0]\n",
      " [ 0 88  0  0  0  0  0  0  1  0]\n",
      " [ 0  1 67  0  0  0  2  2  5  2]\n",
      " [ 0  0  3 70  0  4  1  1  3  2]\n",
      " [ 1  0  0  1 68  0  3  1  1  1]\n",
      " [ 3  1  2  4  0 52  3  1  4  2]\n",
      " [ 2  0  4  0  0  0 76  0  0  0]\n",
      " [ 1  1  2  0  1  0  0 65  1  7]\n",
      " [ 1  3  0  2  2  2  1  1 59  2]\n",
      " [ 0  0  0  0  7  1  1  1  1 48]]\n"
     ]
    }
   ],
   "source": [
    "print \"The original total no. of features: {}\".format(train_X.shape[1])\n",
    "\n",
    "#getting features\n",
    "ovr = OneVsRestClassifier(LogisticRegression(C=1./best_alpha, penalty='l1')).fit(train_X, train_y)\n",
    "ovr.coef_\n",
    "model = SelectFromModel(ovr, prefit=True)\n",
    "\n",
    "#non-zero features\n",
    "train_X_new = model.transform(train_X)\n",
    "test_X_new = model.transform(test_X)\n",
    "print \"The new no. of features (non-zero features): {}\".format(train_X_new.shape[1])\n",
    "print \n",
    "\n",
    "#train final model\n",
    "final_model = OneVsRestClassifier(LogisticRegression(C=1./best_alpha, penalty='l1')).fit(train_X_new, train_y)\n",
    "pred_label = final_model.predict(test_X_new)\n",
    "true_label = test_y\n",
    "\n",
    "cm = metrics.confusion_matrix(true_label, pred_label, labels = np.unique(data[:,0]))\n",
    "print 'Confusion matrix of test set:'\n",
    "print cm\n"
   ]
  },
  {
   "cell_type": "code",
   "execution_count": 63,
   "metadata": {},
   "outputs": [
    {
     "name": "stdout",
     "output_type": "stream",
     "text": [
      "             precision    recall  f1-score   support\n",
      "\n",
      "          0       0.89      0.97      0.93        64\n",
      "          1       0.94      0.99      0.96        89\n",
      "          2       0.86      0.85      0.85        79\n",
      "          3       0.90      0.83      0.86        84\n",
      "          4       0.87      0.89      0.88        76\n",
      "          5       0.88      0.72      0.79        72\n",
      "          6       0.87      0.93      0.90        82\n",
      "          7       0.90      0.83      0.87        78\n",
      "          8       0.78      0.81      0.79        73\n",
      "          9       0.75      0.81      0.78        59\n",
      "\n",
      "avg / total       0.87      0.87      0.87       756\n",
      "\n",
      "Accuracy\n",
      "0.97\n",
      "0.99\n",
      "0.85\n",
      "0.83\n",
      "0.89\n",
      "0.72\n",
      "0.93\n",
      "0.83\n",
      "0.81\n",
      "0.81\n"
     ]
    }
   ],
   "source": [
    "classes = ['0', '1', '2', '3', '4', '5','6', '7', '8', '9']\n",
    "print(classification_report(true_label, pred_label, target_names=classes))\n",
    "\n",
    "tptn = cm.diagonal()\n",
    "tpfpfntn = cm.sum(axis=1)\n",
    "a = []\n",
    "b= []\n",
    "print \"Accuracy\"\n",
    "for i in range(len(classes)):\n",
    "    a.append(float(tptn[i]))\n",
    "    b.append(float(tpfpfntn[i]))\n",
    "    print round(a[i]/b[i], 2)"
   ]
  },
  {
   "cell_type": "markdown",
   "metadata": {},
   "source": [
    "#### Discussion"
   ]
  },
  {
   "cell_type": "markdown",
   "metadata": {},
   "source": [
    "With lambda value of 333, the average accuracy value of test set is 0.87 while average accuracy of training set is 0.864. Since the test set has better performance, this model is not overfitted."
   ]
  }
 ],
 "metadata": {
  "kernelspec": {
   "display_name": "Python 2",
   "language": "python",
   "name": "python2"
  },
  "language_info": {
   "codemirror_mode": {
    "name": "ipython",
    "version": 2
   },
   "file_extension": ".py",
   "mimetype": "text/x-python",
   "name": "python",
   "nbconvert_exporter": "python",
   "pygments_lexer": "ipython2",
   "version": "2.7.13"
  }
 },
 "nbformat": 4,
 "nbformat_minor": 2
}
